{
 "cells": [
  {
   "cell_type": "code",
   "execution_count": 29,
   "id": "fa9f64e2",
   "metadata": {},
   "outputs": [],
   "source": [
    "import pandas as pd\n",
    "import tensorflow as tf\n",
    "from transformers import AutoTokenizer\n",
    "import re\n",
    "from transformers import AdamWeightDecay\n",
    "from datasets import Dataset\n",
    "import math\n",
    "import numpy as np\n",
    "from transformers import DataCollatorForSeq2Seq\n",
    "from transformers import TFAutoModelForSeq2SeqLM\n",
    "import torch\n",
    "import matplotlib.pyplot as plt\n",
    "import evaluate"
   ]
  },
  {
   "cell_type": "code",
   "execution_count": 30,
   "id": "1a66757e",
   "metadata": {},
   "outputs": [
    {
     "name": "stderr",
     "output_type": "stream",
     "text": [
      "2023-11-22 10:43:50.351585: I tensorflow/compiler/xla/stream_executor/cuda/cuda_gpu_executor.cc:894] successful NUMA node read from SysFS had negative value (-1), but there must be at least one NUMA node, so returning NUMA node zero. See more at https://github.com/torvalds/linux/blob/v6.0/Documentation/ABI/testing/sysfs-bus-pci#L344-L355\n",
      "2023-11-22 10:43:50.390121: I tensorflow/compiler/xla/stream_executor/cuda/cuda_gpu_executor.cc:894] successful NUMA node read from SysFS had negative value (-1), but there must be at least one NUMA node, so returning NUMA node zero. See more at https://github.com/torvalds/linux/blob/v6.0/Documentation/ABI/testing/sysfs-bus-pci#L344-L355\n",
      "2023-11-22 10:43:50.390292: I tensorflow/compiler/xla/stream_executor/cuda/cuda_gpu_executor.cc:894] successful NUMA node read from SysFS had negative value (-1), but there must be at least one NUMA node, so returning NUMA node zero. See more at https://github.com/torvalds/linux/blob/v6.0/Documentation/ABI/testing/sysfs-bus-pci#L344-L355\n"
     ]
    },
    {
     "data": {
      "text/plain": [
       "[PhysicalDevice(name='/physical_device:GPU:0', device_type='GPU')]"
      ]
     },
     "execution_count": 30,
     "metadata": {},
     "output_type": "execute_result"
    }
   ],
   "source": [
    "tf.config.experimental.list_physical_devices(device_type='GPU')"
   ]
  },
  {
   "cell_type": "code",
   "execution_count": 31,
   "id": "c57bf8a5",
   "metadata": {},
   "outputs": [],
   "source": [
    "def json_to_dataset(filename):\n",
    "    f = open(filename)\n",
    "    df = pd.read_json(f)\n",
    "    print(df.head())\n",
    "    f.close()\n",
    "    df['news'] = df['news'].apply(lambda x: re.sub(r'\\([^)]*\\)', '', x))\n",
    "    #df = df.iloc[:10000]\n",
    "    print(df.columns)\n",
    "    print(df.head)\n",
    "    dataset = Dataset.from_pandas(df)\n",
    "    dataset = dataset.train_test_split(test_size=0.2)\n",
    "    return dataset"
   ]
  },
  {
   "cell_type": "code",
   "execution_count": 32,
   "id": "08982d18",
   "metadata": {},
   "outputs": [
    {
     "name": "stdout",
     "output_type": "stream",
     "text": [
      "                                                news  \\\n",
      "0  (Oct 7, 2014  12:40 PM CDT) As of Jan. 1, Walm...   \n",
      "1  (Oct 29, 2013  8:15 AM CDT) Dax Shepard and Kr...   \n",
      "2  (Mar 6, 2016  10:50 AM) Nancy Reagan, the help...   \n",
      "3  (Aug 15, 2008  5:11 AM CDT) American Airlines ...   \n",
      "4  (Apr 18, 2016  1:02 PM CDT) Ingrid Lyne, the S...   \n",
      "\n",
      "                                            headline  \n",
      "0   30K Walmart Part-Timers to Lose Health Insurance  \n",
      "1     Dax Shepard: Wedding to Kristen Bell Cost $142  \n",
      "2                            Nancy Reagan Dead at 94  \n",
      "3  American Airlines Faces $7M Fine for Safety Vi...  \n",
      "4   $222K Raised for Kids of Mom Dismembered on Date  \n",
      "Index(['news', 'headline'], dtype='object')\n",
      "<bound method NDFrame.head of                                                     news  \\\n",
      "0       As of Jan. 1, Walmart will no longer offer 30...   \n",
      "1       Dax Shepard and Kristen Bell got married at t...   \n",
      "2       Nancy Reagan, the helpmate, backstage adviser...   \n",
      "3       American Airlines faces FAA fines of more tha...   \n",
      "4       Ingrid Lyne, the Seattle mom allegedly murder...   \n",
      "...                                                  ...   \n",
      "21152   For hundreds of years, an imposing white oak ...   \n",
      "21153   Age may be nothing but a number, but one octo...   \n",
      "21154   For the first time, women in their early 30s ...   \n",
      "21155   Three more bodies were found in the ruins of ...   \n",
      "21156   Authorities now say 17 people have died in So...   \n",
      "\n",
      "                                                headline  \n",
      "0       30K Walmart Part-Timers to Lose Health Insurance  \n",
      "1         Dax Shepard: Wedding to Kristen Bell Cost $142  \n",
      "2                                Nancy Reagan Dead at 94  \n",
      "3      American Airlines Faces $7M Fine for Safety Vi...  \n",
      "4       $222K Raised for Kids of Mom Dismembered on Date  \n",
      "...                                                  ...  \n",
      "21152       NJ Town's Iconic 600-Year-Old Tree Will Fall  \n",
      "21153         Tokyo's Hottest DJ Is an 82-Year-Old Woman  \n",
      "21154      Report Reveals Historic 1st for American Moms  \n",
      "21155  3 More Bodies Found in Tenn. Wildfire Ruins, T...  \n",
      "21156    Death Toll From California Mudslide Rises to 17  \n",
      "\n",
      "[21157 rows x 2 columns]>\n"
     ]
    }
   ],
   "source": [
    "train_data = json_to_dataset('Train_Headline_Generation.json')"
   ]
  },
  {
   "cell_type": "code",
   "execution_count": 2,
   "id": "a6dc9a85",
   "metadata": {},
   "outputs": [],
   "source": [
    "model_name = \"Michau/t5-base-en-generate-headline\""
   ]
  },
  {
   "cell_type": "code",
   "execution_count": 5,
   "id": "c9512c0e",
   "metadata": {},
   "outputs": [],
   "source": [
    "prefix = \"headline: \"\n",
    "#max_len = 3024\n",
    "max_len = 2024\n",
    "#max_l = 1028\n",
    "max_l = 256"
   ]
  },
  {
   "cell_type": "code",
   "execution_count": 6,
   "id": "1fcb4671",
   "metadata": {},
   "outputs": [],
   "source": [
    "def preprocess_function(examples):   \n",
    "    inputs = [prefix + doc for doc in examples[\"news\"]]\n",
    "    model_inputs = tokenizer(inputs, max_length=max_len, truncation=True)\n",
    "    labels = tokenizer(text_target=examples[\"headline\"], max_length=max_l, truncation=True)\n",
    "    model_inputs[\"labels\"] = labels[\"input_ids\"]\n",
    "    return model_inputs"
   ]
  },
  {
   "cell_type": "markdown",
   "id": "fc2726b1",
   "metadata": {},
   "source": [
    "To apply the preprocess function over the entire dataset"
   ]
  },
  {
   "cell_type": "code",
   "execution_count": 3,
   "id": "5277d12c",
   "metadata": {},
   "outputs": [
    {
     "name": "stderr",
     "output_type": "stream",
     "text": [
      "You are using the default legacy behaviour of the <class 'transformers.models.t5.tokenization_t5.T5Tokenizer'>. This is expected, and simply means that the `legacy` (previous) behavior will be used so nothing changes for you. If you want to use the new behaviour, set `legacy=False`. This should only be set if you understand what it means, and thouroughly read the reason why this was added as explained in https://github.com/huggingface/transformers/pull/24565\n"
     ]
    }
   ],
   "source": [
    "tokenizer = AutoTokenizer.from_pretrained(model_name)"
   ]
  },
  {
   "cell_type": "code",
   "execution_count": 11,
   "id": "d58f3fd9",
   "metadata": {},
   "outputs": [
    {
     "data": {
      "application/vnd.jupyter.widget-view+json": {
       "model_id": "794d5c2ec8bc44d9bcd0911a2ccd4e1d",
       "version_major": 2,
       "version_minor": 0
      },
      "text/plain": [
       "Map (num_proc=4):   0%|          | 0/16925 [00:00<?, ? examples/s]"
      ]
     },
     "metadata": {},
     "output_type": "display_data"
    },
    {
     "data": {
      "application/vnd.jupyter.widget-view+json": {
       "model_id": "f43a614762354d2faa32e101aae501a9",
       "version_major": 2,
       "version_minor": 0
      },
      "text/plain": [
       "Map (num_proc=4):   0%|          | 0/4232 [00:00<?, ? examples/s]"
      ]
     },
     "metadata": {},
     "output_type": "display_data"
    }
   ],
   "source": [
    "tokenized = train_data.map(preprocess_function, batched=True, num_proc=4,\n",
    "                        remove_columns=train_data['train'].column_names)"
   ]
  },
  {
   "cell_type": "code",
   "execution_count": 12,
   "id": "9c352b02",
   "metadata": {},
   "outputs": [],
   "source": [
    "data_collator = DataCollatorForSeq2Seq(tokenizer=tokenizer,\n",
    "                                           model=model_name,\n",
    "                                           return_tensors=\"tf\")\n",
    "optimizer = AdamWeightDecay(learning_rate=5e-5, weight_decay_rate=0.01)"
   ]
  },
  {
   "cell_type": "code",
   "execution_count": 13,
   "id": "5770ed7c",
   "metadata": {},
   "outputs": [
    {
     "data": {
      "application/vnd.jupyter.widget-view+json": {
       "model_id": "a377516289ac4c68b263d704c4db8e8c",
       "version_major": 2,
       "version_minor": 0
      },
      "text/plain": [
       "Downloading tf_model.h5:   0%|          | 0.00/892M [00:00<?, ?B/s]"
      ]
     },
     "metadata": {},
     "output_type": "display_data"
    },
    {
     "name": "stderr",
     "output_type": "stream",
     "text": [
      "2023-11-21 21:01:49.306459: I tensorflow/core/common_runtime/gpu/gpu_device.cc:1639] Created device /job:localhost/replica:0/task:0/device:GPU:0 with 31141 MB memory:  -> device: 0, name: Tesla V100S-PCIE-32GB, pci bus id: 0000:81:00.0, compute capability: 7.0\n",
      "2023-11-21 21:01:49.308234: I tensorflow/core/common_runtime/gpu/gpu_device.cc:1639] Created device /job:localhost/replica:0/task:0/device:GPU:1 with 31141 MB memory:  -> device: 1, name: Tesla V100S-PCIE-32GB, pci bus id: 0000:c1:00.0, compute capability: 7.0\n",
      "All model checkpoint layers were used when initializing TFT5ForConditionalGeneration.\n",
      "\n",
      "All the layers of TFT5ForConditionalGeneration were initialized from the model checkpoint at Michau/t5-base-en-generate-headline.\n",
      "If your task is similar to the task the model of the checkpoint was trained on, you can already use TFT5ForConditionalGeneration for predictions without further training.\n"
     ]
    }
   ],
   "source": [
    "model = TFAutoModelForSeq2SeqLM.from_pretrained(model_name)"
   ]
  },
  {
   "cell_type": "markdown",
   "id": "182600a5",
   "metadata": {},
   "source": [
    "To convert datasets to the tf.data.Dataset format "
   ]
  },
  {
   "cell_type": "code",
   "execution_count": 14,
   "id": "aeb30fed",
   "metadata": {},
   "outputs": [
    {
     "name": "stderr",
     "output_type": "stream",
     "text": [
      "You're using a T5TokenizerFast tokenizer. Please note that with a fast tokenizer, using the `__call__` method is faster than using a method to encode the text followed by a call to the `pad` method to get a padded encoding.\n"
     ]
    }
   ],
   "source": [
    "tf_train_set = model.prepare_tf_dataset(\n",
    "    tokenized[\"train\"],\n",
    "    shuffle=True,\n",
    "    batch_size=16,\n",
    "    collate_fn=data_collator,\n",
    ")\n",
    "\n",
    "tf_test_set = model.prepare_tf_dataset(\n",
    "    tokenized[\"test\"],\n",
    "    shuffle=False,\n",
    "    batch_size=16,\n",
    "    collate_fn=data_collator,\n",
    ")"
   ]
  },
  {
   "cell_type": "code",
   "execution_count": 15,
   "id": "260c07c1",
   "metadata": {},
   "outputs": [],
   "source": [
    "model.compile(optimizer=optimizer)"
   ]
  },
  {
   "cell_type": "code",
   "execution_count": 16,
   "id": "d849f8d8",
   "metadata": {},
   "outputs": [
    {
     "name": "stdout",
     "output_type": "stream",
     "text": [
      "Epoch 1/7\n",
      "1057/1057 [==============================] - 645s 587ms/step - loss: 2.1624 - val_loss: 1.8009\n",
      "Epoch 2/7\n",
      "1057/1057 [==============================] - 616s 583ms/step - loss: 1.8648 - val_loss: 1.7330\n",
      "Epoch 3/7\n",
      "1057/1057 [==============================] - 617s 584ms/step - loss: 1.6920 - val_loss: 1.6944\n",
      "Epoch 4/7\n",
      "1057/1057 [==============================] - 617s 584ms/step - loss: 1.5527 - val_loss: 1.6818\n",
      "Epoch 5/7\n",
      "1057/1057 [==============================] - 617s 584ms/step - loss: 1.4353 - val_loss: 1.6784\n",
      "Epoch 6/7\n",
      "1057/1057 [==============================] - 649s 614ms/step - loss: 1.3329 - val_loss: 1.6855\n"
     ]
    }
   ],
   "source": [
    "callback = tf.keras.callbacks.EarlyStopping(monitor='val_loss', patience=1)\n",
    "history = model.fit(x=tf_train_set, validation_data=tf_test_set, callbacks=[callback], batch_size=6, epochs=7)\n",
    "#model.fit(x=tf_train_set, validation_data=tf_test_set, batch_size=6, epochs=1)\n",
    "#eval_loss = model.evaluate(tf_test_set)\n",
    "#print(f\"Finetuned Perplexity: {math.exp(eval_loss):.2f}\")"
   ]
  },
  {
   "cell_type": "code",
   "execution_count": 16,
   "id": "a9ec8cfa",
   "metadata": {},
   "outputs": [
    {
     "data": {
      "image/png": "[encoded data removed]",
      "text/plain": [
       "<Figure size 640x480 with 1 Axes>"
      ]
     },
     "metadata": {},
     "output_type": "display_data"
    }
   ],
   "source": [
    "plt.plot(history.history['loss'])\n",
    "plt.plot(history.history['val_loss'])\n",
    "plt.title('model loss')\n",
    "plt.ylabel('loss')\n",
    "plt.xlabel('epoch')\n",
    "plt.legend(['train', 'test'], loc='upper left')\n",
    "plt.show()"
   ]
  },
  {
   "cell_type": "code",
   "execution_count": 7,
   "id": "bfe318a7",
   "metadata": {},
   "outputs": [],
   "source": [
    "f = open('Dev_Headline_Generation.json')\n",
    "df = pd.read_json(f)\n",
    "df['news'] = df['news'].apply(lambda x: re.sub(r'\\([^)]*\\)', '', x))\n",
    "#df = df.iloc[45:50]\n",
    "#df = df.iloc[100:500]\n",
    "f.close()\n",
    "test_data = Dataset.from_pandas(df)"
   ]
  },
  {
   "cell_type": "code",
   "execution_count": 19,
   "id": "8a080a0e",
   "metadata": {},
   "outputs": [],
   "source": [
    "def t5_predictions(data, tokenizer, model):\n",
    "    text = prefix + data['news']\n",
    "    inputs = tokenizer.encode_plus(text, return_tensors=\"pt\").input_ids\n",
    "\n",
    "    outputs = model.generate(inputs,\n",
    "                              max_length = 64, num_beams = 5, early_stopping = True)\n",
    "    predictions = tokenizer.decode(outputs[0])\n",
    "    result = re.sub(\"\\<.*?\\>\",\"\", predictions)\n",
    "    return result"
   ]
  },
  {
   "cell_type": "markdown",
   "id": "44c812ec",
   "metadata": {},
   "source": [
    "To load the ROUGE metric which stands for Recall-Oriented Understudy for Gisting Evaluation to calculates the similarity between the predicted headlines and actual headlines. ROUGE-N measures the number of matching n-grams between the model-generated text and an actual headline.\n",
    "\n"
   ]
  },
  {
   "cell_type": "code",
   "execution_count": 24,
   "id": "d70b3d80",
   "metadata": {},
   "outputs": [],
   "source": [
    "rouge = evaluate.load(\"rouge\")"
   ]
  },
  {
   "cell_type": "code",
   "execution_count": 20,
   "id": "c4ff2791",
   "metadata": {},
   "outputs": [
    {
     "name": "stderr",
     "output_type": "stream",
     "text": [
      "2023-11-21 22:04:49.097731: I tensorflow/compiler/xla/service/service.cc:168] XLA service 0x7f88c806d3c0 initialized for platform CUDA (this does not guarantee that XLA will be used). Devices:\n",
      "2023-11-21 22:04:49.097771: I tensorflow/compiler/xla/service/service.cc:176]   StreamExecutor device (0): Tesla V100S-PCIE-32GB, Compute Capability 7.0\n",
      "2023-11-21 22:04:49.097778: I tensorflow/compiler/xla/service/service.cc:176]   StreamExecutor device (1): Tesla V100S-PCIE-32GB, Compute Capability 7.0\n",
      "2023-11-21 22:04:49.101719: I tensorflow/compiler/mlir/tensorflow/utils/dump_mlir_util.cc:255] disabling MLIR crash reproducer, set env var `MLIR_CRASH_REPRODUCER_DIRECTORY` to enable.\n",
      "2023-11-21 22:04:49.123127: I tensorflow/compiler/xla/stream_executor/cuda/cuda_dnn.cc:432] Loaded cuDNN version 8902\n",
      "2023-11-21 22:04:49.130143: W tensorflow/compiler/xla/service/gpu/llvm_gpu_backend/gpu_backend_lib.cc:543] Can't find libdevice directory ${CUDA_DIR}/nvvm/libdevice. This may result in compilation or runtime failures, if the program we try to run uses routines from libdevice.\n",
      "Searched for CUDA in the following directories:\n",
      "  ./cuda_sdk_lib\n",
      "  /usr/local/cuda-11.8\n",
      "  /usr/local/cuda\n",
      "  .\n",
      "You can choose the search directory by setting xla_gpu_cuda_data_dir in HloModule's DebugOptions.  For most apps, setting the environment variable XLA_FLAGS=--xla_gpu_cuda_data_dir=/path/to/cuda will work.\n",
      "2023-11-21 22:04:49.309118: I ./tensorflow/compiler/jit/device_compiler.h:186] Compiled cluster using XLA!  This line is logged at most once for the lifetime of the process.\n"
     ]
    }
   ],
   "source": [
    "predictions = [t5_predictions(i, tokenizer, model) for i in test_data]"
   ]
  },
  {
   "cell_type": "code",
   "execution_count": 21,
   "id": "1ef91143",
   "metadata": {},
   "outputs": [
    {
     "data": {
      "text/html": [
       "<div>\n",
       "<style scoped>\n",
       "    .dataframe tbody tr th:only-of-type {\n",
       "        vertical-align: middle;\n",
       "    }\n",
       "\n",
       "    .dataframe tbody tr th {\n",
       "        vertical-align: top;\n",
       "    }\n",
       "\n",
       "    .dataframe thead th {\n",
       "        text-align: right;\n",
       "    }\n",
       "</style>\n",
       "<table border=\"1\" class=\"dataframe\">\n",
       "  <thead>\n",
       "    <tr style=\"text-align: right;\">\n",
       "      <th></th>\n",
       "      <th>predictions</th>\n",
       "    </tr>\n",
       "  </thead>\n",
       "  <tbody>\n",
       "    <tr>\n",
       "      <th>0</th>\n",
       "      <td>3 Killed in California Quarry Shooting Spree</td>\n",
       "    </tr>\n",
       "    <tr>\n",
       "      <th>1</th>\n",
       "      <td>Dow Up 305 on Election Day</td>\n",
       "    </tr>\n",
       "    <tr>\n",
       "      <th>2</th>\n",
       "      <td>The Interview Is Now Available for $14.99</td>\n",
       "    </tr>\n",
       "    <tr>\n",
       "      <th>3</th>\n",
       "      <td>10-Year-Old Accused of Killing 90-Year-Old Wo...</td>\n",
       "    </tr>\n",
       "    <tr>\n",
       "      <th>4</th>\n",
       "      <td>Tobacco Companies Discovered Radiation in 1959</td>\n",
       "    </tr>\n",
       "  </tbody>\n",
       "</table>\n",
       "</div>"
      ],
      "text/plain": [
       "                                         predictions\n",
       "0       3 Killed in California Quarry Shooting Spree\n",
       "1                         Dow Up 305 on Election Day\n",
       "2          The Interview Is Now Available for $14.99\n",
       "3   10-Year-Old Accused of Killing 90-Year-Old Wo...\n",
       "4     Tobacco Companies Discovered Radiation in 1959"
      ]
     },
     "execution_count": 21,
     "metadata": {},
     "output_type": "execute_result"
    }
   ],
   "source": [
    "df = pd.DataFrame()\n",
    "df['predictions'] = predictions\n",
    "df.head()"
   ]
  },
  {
   "cell_type": "code",
   "execution_count": 22,
   "id": "08380771",
   "metadata": {},
   "outputs": [],
   "source": [
    "df.to_excel('hpc_michau21.xlsx')"
   ]
  },
  {
   "cell_type": "code",
   "execution_count": 12,
   "id": "103dc849",
   "metadata": {},
   "outputs": [],
   "source": [
    "df = pd.read_excel('hpc_michau21.xlsx')"
   ]
  },
  {
   "cell_type": "code",
   "execution_count": 13,
   "id": "c15dec10",
   "metadata": {},
   "outputs": [
    {
     "data": {
      "text/html": [
       "<div>\n",
       "<style scoped>\n",
       "    .dataframe tbody tr th:only-of-type {\n",
       "        vertical-align: middle;\n",
       "    }\n",
       "\n",
       "    .dataframe tbody tr th {\n",
       "        vertical-align: top;\n",
       "    }\n",
       "\n",
       "    .dataframe thead th {\n",
       "        text-align: right;\n",
       "    }\n",
       "</style>\n",
       "<table border=\"1\" class=\"dataframe\">\n",
       "  <thead>\n",
       "    <tr style=\"text-align: right;\">\n",
       "      <th></th>\n",
       "      <th>Unnamed: 0</th>\n",
       "      <th>predictions</th>\n",
       "      <th>answers</th>\n",
       "    </tr>\n",
       "  </thead>\n",
       "  <tbody>\n",
       "    <tr>\n",
       "      <th>0</th>\n",
       "      <td>0</td>\n",
       "      <td>3 Killed in California Quarry Shooting Spree</td>\n",
       "      <td>3rd Victim Dead in Quarry Shooting; Manhunt St...</td>\n",
       "    </tr>\n",
       "    <tr>\n",
       "      <th>1</th>\n",
       "      <td>1</td>\n",
       "      <td>Dow Up 305 on Election Day</td>\n",
       "      <td>Stocks Up 305 in Election Rally</td>\n",
       "    </tr>\n",
       "    <tr>\n",
       "      <th>2</th>\n",
       "      <td>2</td>\n",
       "      <td>The Interview Is Now Available for $14.99</td>\n",
       "      <td>You Can Watch The Interview at 1pm</td>\n",
       "    </tr>\n",
       "    <tr>\n",
       "      <th>3</th>\n",
       "      <td>3</td>\n",
       "      <td>10-Year-Old Accused of Killing 90-Year-Old Wo...</td>\n",
       "      <td>Murder Suspect, 10, Will Stay in Adult Jail</td>\n",
       "    </tr>\n",
       "    <tr>\n",
       "      <th>4</th>\n",
       "      <td>4</td>\n",
       "      <td>Tobacco Companies Discovered Radiation in 1959</td>\n",
       "      <td>Tobacco Firms Knew of Radiation in Cigs—in 1959</td>\n",
       "    </tr>\n",
       "  </tbody>\n",
       "</table>\n",
       "</div>"
      ],
      "text/plain": [
       "   Unnamed: 0                                        predictions  \\\n",
       "0           0       3 Killed in California Quarry Shooting Spree   \n",
       "1           1                         Dow Up 305 on Election Day   \n",
       "2           2          The Interview Is Now Available for $14.99   \n",
       "3           3   10-Year-Old Accused of Killing 90-Year-Old Wo...   \n",
       "4           4     Tobacco Companies Discovered Radiation in 1959   \n",
       "\n",
       "                                             answers  \n",
       "0  3rd Victim Dead in Quarry Shooting; Manhunt St...  \n",
       "1                    Stocks Up 305 in Election Rally  \n",
       "2                 You Can Watch The Interview at 1pm  \n",
       "3        Murder Suspect, 10, Will Stay in Adult Jail  \n",
       "4    Tobacco Firms Knew of Radiation in Cigs—in 1959  "
      ]
     },
     "execution_count": 13,
     "metadata": {},
     "output_type": "execute_result"
    }
   ],
   "source": [
    "df['answers'] = test_data['headline']\n",
    "df.head()"
   ]
  },
  {
   "cell_type": "code",
   "execution_count": 14,
   "id": "52742c49",
   "metadata": {},
   "outputs": [],
   "source": [
    "rouge = evaluate.load(\"rouge\")"
   ]
  },
  {
   "cell_type": "code",
   "execution_count": 15,
   "id": "8d913482",
   "metadata": {},
   "outputs": [],
   "source": [
    "def compute_rouge(data):\n",
    "    rougescore = rouge.compute(predictions=[data['predictions']], references=[data['answers']])\n",
    "    return rougescore"
   ]
  },
  {
   "cell_type": "code",
   "execution_count": 16,
   "id": "a0671f74",
   "metadata": {},
   "outputs": [],
   "source": [
    "df['rougescores'] = df.apply(lambda x: rouge.compute(predictions=[x['predictions']], references=[x['answers']]), axis=1)"
   ]
  },
  {
   "cell_type": "code",
   "execution_count": 24,
   "id": "9a2a9d20",
   "metadata": {},
   "outputs": [
    {
     "data": {
      "text/plain": [
       "30"
      ]
     },
     "execution_count": 24,
     "metadata": {},
     "output_type": "execute_result"
    }
   ],
   "source": [
    "df['rougescores'] = [d.get('rougeL') for d in df['rougescores']]\n",
    "len(df.loc[df['rougescores']==1])"
   ]
  },
  {
   "cell_type": "code",
   "execution_count": 25,
   "id": "dd52a909",
   "metadata": {},
   "outputs": [
    {
     "data": {
      "text/plain": [
       "687"
      ]
     },
     "execution_count": 25,
     "metadata": {},
     "output_type": "execute_result"
    }
   ],
   "source": [
    "len(df.loc[df['rougescores']>=0.5])"
   ]
  },
  {
   "cell_type": "code",
   "execution_count": 26,
   "id": "3cd0d668",
   "metadata": {},
   "outputs": [
    {
     "data": {
      "text/plain": [
       "177"
      ]
     },
     "execution_count": 26,
     "metadata": {},
     "output_type": "execute_result"
    }
   ],
   "source": [
    "len(df.loc[df['rougescores']>=0.75])"
   ]
  },
  {
   "cell_type": "code",
   "execution_count": 20,
   "id": "33adec33",
   "metadata": {},
   "outputs": [],
   "source": [
    "from evaluate import load\n",
    "bertscore = load(\"bertscore\")"
   ]
  },
  {
   "cell_type": "code",
   "execution_count": 21,
   "id": "6072f296",
   "metadata": {},
   "outputs": [
    {
     "name": "stderr",
     "output_type": "stream",
     "text": [
      "Some weights of RobertaModel were not initialized from the model checkpoint at roberta-large and are newly initialized: ['roberta.pooler.dense.bias', 'roberta.pooler.dense.weight']\n",
      "You should probably TRAIN this model on a down-stream task to be able to use it for predictions and inference.\n"
     ]
    }
   ],
   "source": [
    "df['bertscores'] = df.apply(lambda x: bertscore.compute(predictions=[x['predictions']], references=[x['answers']],\n",
    "                                                       rescale_with_baseline=True, lang=\"en\", batch_size=1), axis=1)"
   ]
  },
  {
   "cell_type": "code",
   "execution_count": 22,
   "id": "045cf17b",
   "metadata": {},
   "outputs": [
    {
     "data": {
      "text/html": [
       "<div>\n",
       "<style scoped>\n",
       "    .dataframe tbody tr th:only-of-type {\n",
       "        vertical-align: middle;\n",
       "    }\n",
       "\n",
       "    .dataframe tbody tr th {\n",
       "        vertical-align: top;\n",
       "    }\n",
       "\n",
       "    .dataframe thead th {\n",
       "        text-align: right;\n",
       "    }\n",
       "</style>\n",
       "<table border=\"1\" class=\"dataframe\">\n",
       "  <thead>\n",
       "    <tr style=\"text-align: right;\">\n",
       "      <th></th>\n",
       "      <th>Unnamed: 0</th>\n",
       "      <th>predictions</th>\n",
       "      <th>answers</th>\n",
       "      <th>rougescores</th>\n",
       "      <th>rougeL</th>\n",
       "      <th>bertscores</th>\n",
       "      <th>bert_f1</th>\n",
       "    </tr>\n",
       "  </thead>\n",
       "  <tbody>\n",
       "    <tr>\n",
       "      <th>0</th>\n",
       "      <td>0</td>\n",
       "      <td>3 Killed in California Quarry Shooting Spree</td>\n",
       "      <td>3rd Victim Dead in Quarry Shooting; Manhunt St...</td>\n",
       "      <td>{'rouge1': 0.375, 'rouge2': 0.1428571428571428...</td>\n",
       "      <td>0.375000</td>\n",
       "      <td>{'precision': [0.4577317535877228], 'recall': ...</td>\n",
       "      <td>0.351130</td>\n",
       "    </tr>\n",
       "    <tr>\n",
       "      <th>1</th>\n",
       "      <td>1</td>\n",
       "      <td>Dow Up 305 on Election Day</td>\n",
       "      <td>Stocks Up 305 in Election Rally</td>\n",
       "      <td>{'rouge1': 0.5, 'rouge2': 0.20000000000000004,...</td>\n",
       "      <td>0.500000</td>\n",
       "      <td>{'precision': [0.371025413274765], 'recall': [...</td>\n",
       "      <td>0.285281</td>\n",
       "    </tr>\n",
       "    <tr>\n",
       "      <th>2</th>\n",
       "      <td>2</td>\n",
       "      <td>The Interview Is Now Available for $14.99</td>\n",
       "      <td>You Can Watch The Interview at 1pm</td>\n",
       "      <td>{'rouge1': 0.26666666666666666, 'rouge2': 0.15...</td>\n",
       "      <td>0.266667</td>\n",
       "      <td>{'precision': [0.17242328822612762], 'recall':...</td>\n",
       "      <td>0.126363</td>\n",
       "    </tr>\n",
       "    <tr>\n",
       "      <th>3</th>\n",
       "      <td>3</td>\n",
       "      <td>10-Year-Old Accused of Killing 90-Year-Old Wo...</td>\n",
       "      <td>Murder Suspect, 10, Will Stay in Adult Jail</td>\n",
       "      <td>{'rouge1': 0.2727272727272727, 'rouge2': 0.1, ...</td>\n",
       "      <td>0.272727</td>\n",
       "      <td>{'precision': [0.28607577085494995], 'recall':...</td>\n",
       "      <td>0.349638</td>\n",
       "    </tr>\n",
       "    <tr>\n",
       "      <th>4</th>\n",
       "      <td>4</td>\n",
       "      <td>Tobacco Companies Discovered Radiation in 1959</td>\n",
       "      <td>Tobacco Firms Knew of Radiation in Cigs—in 1959</td>\n",
       "      <td>{'rouge1': 0.5333333333333333, 'rouge2': 0.307...</td>\n",
       "      <td>0.533333</td>\n",
       "      <td>{'precision': [0.5810285210609436], 'recall': ...</td>\n",
       "      <td>0.440258</td>\n",
       "    </tr>\n",
       "  </tbody>\n",
       "</table>\n",
       "</div>"
      ],
      "text/plain": [
       "   Unnamed: 0                                        predictions  \\\n",
       "0           0       3 Killed in California Quarry Shooting Spree   \n",
       "1           1                         Dow Up 305 on Election Day   \n",
       "2           2          The Interview Is Now Available for $14.99   \n",
       "3           3   10-Year-Old Accused of Killing 90-Year-Old Wo...   \n",
       "4           4     Tobacco Companies Discovered Radiation in 1959   \n",
       "\n",
       "                                             answers  \\\n",
       "0  3rd Victim Dead in Quarry Shooting; Manhunt St...   \n",
       "1                    Stocks Up 305 in Election Rally   \n",
       "2                 You Can Watch The Interview at 1pm   \n",
       "3        Murder Suspect, 10, Will Stay in Adult Jail   \n",
       "4    Tobacco Firms Knew of Radiation in Cigs—in 1959   \n",
       "\n",
       "                                         rougescores    rougeL  \\\n",
       "0  {'rouge1': 0.375, 'rouge2': 0.1428571428571428...  0.375000   \n",
       "1  {'rouge1': 0.5, 'rouge2': 0.20000000000000004,...  0.500000   \n",
       "2  {'rouge1': 0.26666666666666666, 'rouge2': 0.15...  0.266667   \n",
       "3  {'rouge1': 0.2727272727272727, 'rouge2': 0.1, ...  0.272727   \n",
       "4  {'rouge1': 0.5333333333333333, 'rouge2': 0.307...  0.533333   \n",
       "\n",
       "                                          bertscores   bert_f1  \n",
       "0  {'precision': [0.4577317535877228], 'recall': ...  0.351130  \n",
       "1  {'precision': [0.371025413274765], 'recall': [...  0.285281  \n",
       "2  {'precision': [0.17242328822612762], 'recall':...  0.126363  \n",
       "3  {'precision': [0.28607577085494995], 'recall':...  0.349638  \n",
       "4  {'precision': [0.5810285210609436], 'recall': ...  0.440258  "
      ]
     },
     "execution_count": 22,
     "metadata": {},
     "output_type": "execute_result"
    }
   ],
   "source": [
    "df['bert_f1'] = [d.get('f1')[0] for d in df['bertscores']]\n",
    "df.head()"
   ]
  },
  {
   "cell_type": "code",
   "execution_count": 28,
   "id": "3e60db49",
   "metadata": {},
   "outputs": [],
   "source": [
    "df.to_excel('sub2_michal.xlsx')"
   ]
  },
  {
   "cell_type": "code",
   "execution_count": null,
   "id": "3aa5a811",
   "metadata": {},
   "outputs": [],
   "source": []
  }
 ],
 "metadata": {
  "kernelspec": {
   "display_name": "Python 3 (ipykernel)",
   "language": "python",
   "name": "python3"
  },
  "language_info": {
   "codemirror_mode": {
    "name": "ipython",
    "version": 3
   },
   "file_extension": ".py",
   "mimetype": "text/x-python",
   "name": "python",
   "nbconvert_exporter": "python",
   "pygments_lexer": "ipython3",
   "version": "3.10.9"
  }
 },
 "nbformat": 4,
 "nbformat_minor": 5
}
